{
 "cells": [
  {
   "cell_type": "code",
   "execution_count": 71,
   "id": "cdc76ed7-3c16-48d9-9b14-8b8f8bc1f97e",
   "metadata": {},
   "outputs": [],
   "source": [
    "import pandas as pd\n",
    "import numpy as no\n",
    "import scipy.stats as stats\n",
    "from scipy.stats import shapiro\n",
    "import matplotlib.pyplot as plt\n",
    "import seaborn as sns\n",
    "import datetime\n",
    "\n",
    "from scipy.stats import skew,binom,zscore,shapiro\n",
    "\n",
    "\n",
    "\n",
    "from sklearn.model_selection import train_test_split\n",
    "from sklearn.linear_model import LinearRegression\n",
    "from sklearn.metrics import mean_absolute_error,mean_squared_error\n",
    "\n",
    "import warnings\n",
    "warnings.filterwarnings('ignore')\n"
   ]
  },
  {
   "cell_type": "code",
   "execution_count": 51,
   "id": "944bcd4f-9a4f-4fda-bf4d-0989cda9d41e",
   "metadata": {},
   "outputs": [],
   "source": [
    "df = pd.read_csv('diabetes.csv')"
   ]
  },
  {
   "cell_type": "code",
   "execution_count": 52,
   "id": "97b6ba62-8d4a-4291-8f28-c308e547651e",
   "metadata": {},
   "outputs": [
    {
     "data": {
      "text/html": [
       "<div>\n",
       "<style scoped>\n",
       "    .dataframe tbody tr th:only-of-type {\n",
       "        vertical-align: middle;\n",
       "    }\n",
       "\n",
       "    .dataframe tbody tr th {\n",
       "        vertical-align: top;\n",
       "    }\n",
       "\n",
       "    .dataframe thead th {\n",
       "        text-align: right;\n",
       "    }\n",
       "</style>\n",
       "<table border=\"1\" class=\"dataframe\">\n",
       "  <thead>\n",
       "    <tr style=\"text-align: right;\">\n",
       "      <th></th>\n",
       "      <th>Pregnancies</th>\n",
       "      <th>Glucose</th>\n",
       "      <th>BloodPressure</th>\n",
       "      <th>SkinThickness</th>\n",
       "      <th>Insulin</th>\n",
       "      <th>BMI</th>\n",
       "      <th>DiabetesPedigreeFunction</th>\n",
       "      <th>Age</th>\n",
       "      <th>Outcome</th>\n",
       "    </tr>\n",
       "  </thead>\n",
       "  <tbody>\n",
       "    <tr>\n",
       "      <th>0</th>\n",
       "      <td>6</td>\n",
       "      <td>148</td>\n",
       "      <td>72</td>\n",
       "      <td>35</td>\n",
       "      <td>0</td>\n",
       "      <td>33.6</td>\n",
       "      <td>0.627</td>\n",
       "      <td>50</td>\n",
       "      <td>1</td>\n",
       "    </tr>\n",
       "    <tr>\n",
       "      <th>1</th>\n",
       "      <td>1</td>\n",
       "      <td>85</td>\n",
       "      <td>66</td>\n",
       "      <td>29</td>\n",
       "      <td>0</td>\n",
       "      <td>26.6</td>\n",
       "      <td>0.351</td>\n",
       "      <td>31</td>\n",
       "      <td>0</td>\n",
       "    </tr>\n",
       "    <tr>\n",
       "      <th>2</th>\n",
       "      <td>8</td>\n",
       "      <td>183</td>\n",
       "      <td>64</td>\n",
       "      <td>0</td>\n",
       "      <td>0</td>\n",
       "      <td>23.3</td>\n",
       "      <td>0.672</td>\n",
       "      <td>32</td>\n",
       "      <td>1</td>\n",
       "    </tr>\n",
       "    <tr>\n",
       "      <th>3</th>\n",
       "      <td>1</td>\n",
       "      <td>89</td>\n",
       "      <td>66</td>\n",
       "      <td>23</td>\n",
       "      <td>94</td>\n",
       "      <td>28.1</td>\n",
       "      <td>0.167</td>\n",
       "      <td>21</td>\n",
       "      <td>0</td>\n",
       "    </tr>\n",
       "    <tr>\n",
       "      <th>4</th>\n",
       "      <td>0</td>\n",
       "      <td>137</td>\n",
       "      <td>40</td>\n",
       "      <td>35</td>\n",
       "      <td>168</td>\n",
       "      <td>43.1</td>\n",
       "      <td>2.288</td>\n",
       "      <td>33</td>\n",
       "      <td>1</td>\n",
       "    </tr>\n",
       "  </tbody>\n",
       "</table>\n",
       "</div>"
      ],
      "text/plain": [
       "   Pregnancies  Glucose  BloodPressure  SkinThickness  Insulin   BMI  \\\n",
       "0            6      148             72             35        0  33.6   \n",
       "1            1       85             66             29        0  26.6   \n",
       "2            8      183             64              0        0  23.3   \n",
       "3            1       89             66             23       94  28.1   \n",
       "4            0      137             40             35      168  43.1   \n",
       "\n",
       "   DiabetesPedigreeFunction  Age  Outcome  \n",
       "0                     0.627   50        1  \n",
       "1                     0.351   31        0  \n",
       "2                     0.672   32        1  \n",
       "3                     0.167   21        0  \n",
       "4                     2.288   33        1  "
      ]
     },
     "execution_count": 52,
     "metadata": {},
     "output_type": "execute_result"
    }
   ],
   "source": [
    "df.head()"
   ]
  },
  {
   "cell_type": "code",
   "execution_count": 53,
   "id": "4f2a094f-a7be-4136-91fa-c85011949bd8",
   "metadata": {},
   "outputs": [
    {
     "data": {
      "text/plain": [
       "Index(['Pregnancies', 'Glucose', 'BloodPressure', 'SkinThickness', 'Insulin',\n",
       "       'BMI', 'DiabetesPedigreeFunction', 'Age', 'Outcome'],\n",
       "      dtype='object')"
      ]
     },
     "execution_count": 53,
     "metadata": {},
     "output_type": "execute_result"
    }
   ],
   "source": [
    "df.columns"
   ]
  },
  {
   "cell_type": "code",
   "execution_count": 54,
   "id": "3f03c077-0467-44d0-aa39-6895b6164dbf",
   "metadata": {},
   "outputs": [
    {
     "data": {
      "text/plain": [
       "Pregnancies                 0\n",
       "Glucose                     0\n",
       "BloodPressure               0\n",
       "SkinThickness               0\n",
       "Insulin                     0\n",
       "BMI                         0\n",
       "DiabetesPedigreeFunction    0\n",
       "Age                         0\n",
       "Outcome                     0\n",
       "dtype: int64"
      ]
     },
     "execution_count": 54,
     "metadata": {},
     "output_type": "execute_result"
    }
   ],
   "source": [
    "df.isna().sum()"
   ]
  },
  {
   "cell_type": "code",
   "execution_count": 55,
   "id": "babd10da-a86f-456a-a246-837be958e399",
   "metadata": {},
   "outputs": [
    {
     "data": {
      "text/html": [
       "<div>\n",
       "<style scoped>\n",
       "    .dataframe tbody tr th:only-of-type {\n",
       "        vertical-align: middle;\n",
       "    }\n",
       "\n",
       "    .dataframe tbody tr th {\n",
       "        vertical-align: top;\n",
       "    }\n",
       "\n",
       "    .dataframe thead th {\n",
       "        text-align: right;\n",
       "    }\n",
       "</style>\n",
       "<table border=\"1\" class=\"dataframe\">\n",
       "  <thead>\n",
       "    <tr style=\"text-align: right;\">\n",
       "      <th></th>\n",
       "      <th>Pregnancies</th>\n",
       "      <th>Glucose</th>\n",
       "      <th>BloodPressure</th>\n",
       "      <th>SkinThickness</th>\n",
       "      <th>Insulin</th>\n",
       "      <th>BMI</th>\n",
       "      <th>DiabetesPedigreeFunction</th>\n",
       "      <th>Age</th>\n",
       "      <th>Outcome</th>\n",
       "    </tr>\n",
       "  </thead>\n",
       "  <tbody>\n",
       "    <tr>\n",
       "      <th>0</th>\n",
       "      <td>6</td>\n",
       "      <td>148</td>\n",
       "      <td>72</td>\n",
       "      <td>35</td>\n",
       "      <td>0</td>\n",
       "      <td>33.6</td>\n",
       "      <td>0.627</td>\n",
       "      <td>50</td>\n",
       "      <td>1</td>\n",
       "    </tr>\n",
       "    <tr>\n",
       "      <th>1</th>\n",
       "      <td>1</td>\n",
       "      <td>85</td>\n",
       "      <td>66</td>\n",
       "      <td>29</td>\n",
       "      <td>0</td>\n",
       "      <td>26.6</td>\n",
       "      <td>0.351</td>\n",
       "      <td>31</td>\n",
       "      <td>0</td>\n",
       "    </tr>\n",
       "    <tr>\n",
       "      <th>2</th>\n",
       "      <td>8</td>\n",
       "      <td>183</td>\n",
       "      <td>64</td>\n",
       "      <td>0</td>\n",
       "      <td>0</td>\n",
       "      <td>23.3</td>\n",
       "      <td>0.672</td>\n",
       "      <td>32</td>\n",
       "      <td>1</td>\n",
       "    </tr>\n",
       "    <tr>\n",
       "      <th>3</th>\n",
       "      <td>1</td>\n",
       "      <td>89</td>\n",
       "      <td>66</td>\n",
       "      <td>23</td>\n",
       "      <td>94</td>\n",
       "      <td>28.1</td>\n",
       "      <td>0.167</td>\n",
       "      <td>21</td>\n",
       "      <td>0</td>\n",
       "    </tr>\n",
       "    <tr>\n",
       "      <th>4</th>\n",
       "      <td>0</td>\n",
       "      <td>137</td>\n",
       "      <td>40</td>\n",
       "      <td>35</td>\n",
       "      <td>168</td>\n",
       "      <td>43.1</td>\n",
       "      <td>2.288</td>\n",
       "      <td>33</td>\n",
       "      <td>1</td>\n",
       "    </tr>\n",
       "    <tr>\n",
       "      <th>...</th>\n",
       "      <td>...</td>\n",
       "      <td>...</td>\n",
       "      <td>...</td>\n",
       "      <td>...</td>\n",
       "      <td>...</td>\n",
       "      <td>...</td>\n",
       "      <td>...</td>\n",
       "      <td>...</td>\n",
       "      <td>...</td>\n",
       "    </tr>\n",
       "    <tr>\n",
       "      <th>763</th>\n",
       "      <td>10</td>\n",
       "      <td>101</td>\n",
       "      <td>76</td>\n",
       "      <td>48</td>\n",
       "      <td>180</td>\n",
       "      <td>32.9</td>\n",
       "      <td>0.171</td>\n",
       "      <td>63</td>\n",
       "      <td>0</td>\n",
       "    </tr>\n",
       "    <tr>\n",
       "      <th>764</th>\n",
       "      <td>2</td>\n",
       "      <td>122</td>\n",
       "      <td>70</td>\n",
       "      <td>27</td>\n",
       "      <td>0</td>\n",
       "      <td>36.8</td>\n",
       "      <td>0.340</td>\n",
       "      <td>27</td>\n",
       "      <td>0</td>\n",
       "    </tr>\n",
       "    <tr>\n",
       "      <th>765</th>\n",
       "      <td>5</td>\n",
       "      <td>121</td>\n",
       "      <td>72</td>\n",
       "      <td>23</td>\n",
       "      <td>112</td>\n",
       "      <td>26.2</td>\n",
       "      <td>0.245</td>\n",
       "      <td>30</td>\n",
       "      <td>0</td>\n",
       "    </tr>\n",
       "    <tr>\n",
       "      <th>766</th>\n",
       "      <td>1</td>\n",
       "      <td>126</td>\n",
       "      <td>60</td>\n",
       "      <td>0</td>\n",
       "      <td>0</td>\n",
       "      <td>30.1</td>\n",
       "      <td>0.349</td>\n",
       "      <td>47</td>\n",
       "      <td>1</td>\n",
       "    </tr>\n",
       "    <tr>\n",
       "      <th>767</th>\n",
       "      <td>1</td>\n",
       "      <td>93</td>\n",
       "      <td>70</td>\n",
       "      <td>31</td>\n",
       "      <td>0</td>\n",
       "      <td>30.4</td>\n",
       "      <td>0.315</td>\n",
       "      <td>23</td>\n",
       "      <td>0</td>\n",
       "    </tr>\n",
       "  </tbody>\n",
       "</table>\n",
       "<p>768 rows × 9 columns</p>\n",
       "</div>"
      ],
      "text/plain": [
       "     Pregnancies  Glucose  BloodPressure  SkinThickness  Insulin   BMI  \\\n",
       "0              6      148             72             35        0  33.6   \n",
       "1              1       85             66             29        0  26.6   \n",
       "2              8      183             64              0        0  23.3   \n",
       "3              1       89             66             23       94  28.1   \n",
       "4              0      137             40             35      168  43.1   \n",
       "..           ...      ...            ...            ...      ...   ...   \n",
       "763           10      101             76             48      180  32.9   \n",
       "764            2      122             70             27        0  36.8   \n",
       "765            5      121             72             23      112  26.2   \n",
       "766            1      126             60              0        0  30.1   \n",
       "767            1       93             70             31        0  30.4   \n",
       "\n",
       "     DiabetesPedigreeFunction  Age  Outcome  \n",
       "0                       0.627   50        1  \n",
       "1                       0.351   31        0  \n",
       "2                       0.672   32        1  \n",
       "3                       0.167   21        0  \n",
       "4                       2.288   33        1  \n",
       "..                        ...  ...      ...  \n",
       "763                     0.171   63        0  \n",
       "764                     0.340   27        0  \n",
       "765                     0.245   30        0  \n",
       "766                     0.349   47        1  \n",
       "767                     0.315   23        0  \n",
       "\n",
       "[768 rows x 9 columns]"
      ]
     },
     "execution_count": 55,
     "metadata": {},
     "output_type": "execute_result"
    }
   ],
   "source": [
    "df.dropna()"
   ]
  },
  {
   "cell_type": "code",
   "execution_count": 56,
   "id": "21fbed57-f813-4a76-92ae-1f7bd9a3e087",
   "metadata": {},
   "outputs": [],
   "source": [
    "shapiro =  stats.shapiro(df['Glucose'])"
   ]
  },
  {
   "cell_type": "code",
   "execution_count": 57,
   "id": "5c4a83ec-993f-4ba9-9060-f23a76bb6493",
   "metadata": {},
   "outputs": [
    {
     "data": {
      "text/plain": [
       "1.9863474999979633e-11"
      ]
     },
     "execution_count": 57,
     "metadata": {},
     "output_type": "execute_result"
    }
   ],
   "source": [
    "shapiro.pvalue"
   ]
  },
  {
   "cell_type": "code",
   "execution_count": 58,
   "id": "fe7aca20-8332-4894-9126-e916c4028aa0",
   "metadata": {},
   "outputs": [
    {
     "name": "stdout",
     "output_type": "stream",
     "text": [
      "No normal distribution\n"
     ]
    }
   ],
   "source": [
    "if shapiro.pvalue < 0.05:\n",
    "    print(\"No normal distribution\")\n",
    "else:\n",
    "    print(\"yes\")"
   ]
  },
  {
   "cell_type": "code",
   "execution_count": 59,
   "id": "43d2ec3c-f591-460c-a2bc-09e503d10c54",
   "metadata": {},
   "outputs": [
    {
     "data": {
      "image/png": "[encoded data removed]",
      "text/plain": [
       "<Figure size 640x480 with 1 Axes>"
      ]
     },
     "metadata": {},
     "output_type": "display_data"
    }
   ],
   "source": [
    "stats.probplot(df['Glucose'],dist='norm',plot=plt)\n",
    "plt.show()"
   ]
  },
  {
   "cell_type": "code",
   "execution_count": 60,
   "id": "9df53c65-e7f6-43ab-940c-aceaf82ac733",
   "metadata": {},
   "outputs": [],
   "source": [
    "sample_means = []\n",
    "n = 100\n",
    "s = 30"
   ]
  },
  {
   "cell_type": "code",
   "execution_count": 61,
   "id": "1ee3e6a2-918d-475a-ae8e-de9962942bc7",
   "metadata": {},
   "outputs": [],
   "source": [
    "for i in range(n):\n",
    "    sample = df['Glucose'].sample(s)\n",
    "    sample_means.append(sample.mean())"
   ]
  },
  {
   "cell_type": "code",
   "execution_count": 62,
   "id": "658cdad1-f70d-421f-9872-accacd1f156b",
   "metadata": {},
   "outputs": [],
   "source": [
    "shapiro =  stats.shapiro(sample_means)"
   ]
  },
  {
   "cell_type": "code",
   "execution_count": 63,
   "id": "bdefae4f-af87-4f18-a14a-047d7f80606f",
   "metadata": {},
   "outputs": [
    {
     "name": "stdout",
     "output_type": "stream",
     "text": [
      "yes\n"
     ]
    }
   ],
   "source": [
    "if shapiro.pvalue < 0.05:\n",
    "    print(\"No normal distribution\")\n",
    "else:\n",
    "    print(\"yes\")"
   ]
  },
  {
   "cell_type": "code",
   "execution_count": 64,
   "id": "9a2ff149-1ef8-4951-91b6-976722475f98",
   "metadata": {},
   "outputs": [
    {
     "data": {
      "image/png": "[encoded data removed]",
      "text/plain": [
       "<Figure size 640x480 with 1 Axes>"
      ]
     },
     "metadata": {},
     "output_type": "display_data"
    }
   ],
   "source": [
    "stats.probplot(sample_means,dist='norm',plot=plt)\n",
    "plt.show()"
   ]
  },
  {
   "cell_type": "code",
   "execution_count": 65,
   "id": "bccd7e36-1367-4650-b56b-a24078b6d3a0",
   "metadata": {},
   "outputs": [
    {
     "data": {
      "text/plain": [
       "<Axes: ylabel='Count'>"
      ]
     },
     "execution_count": 65,
     "metadata": {},
     "output_type": "execute_result"
    },
    {
     "data": {
      "image/png": "[encoded data removed]",
      "text/plain": [
       "<Figure size 640x480 with 1 Axes>"
      ]
     },
     "metadata": {},
     "output_type": "display_data"
    }
   ],
   "source": [
    "sns.histplot(sample_means,bins=30)"
   ]
  },
  {
   "cell_type": "code",
   "execution_count": null,
   "id": "445a1e6e-ef7a-4abe-97ec-d97a5b739df0",
   "metadata": {},
   "outputs": [],
   "source": []
  },
  {
   "cell_type": "code",
   "execution_count": 106,
   "id": "d902588e-5808-4020-b5d0-49b73e240133",
   "metadata": {},
   "outputs": [],
   "source": [
    "#regression"
   ]
  },
  {
   "cell_type": "code",
   "execution_count": 186,
   "id": "ddd36fcb-177f-43eb-afca-8baf4f3dbc0c",
   "metadata": {},
   "outputs": [
    {
     "name": "stdout",
     "output_type": "stream",
     "text": [
      "[ 40835.10590871 123079.39940819  65134.55626083  63265.36777221\n",
      " 115602.64545369 108125.8914992  116537.23969801  64199.96201652\n",
      "  76349.68719258 100649.1375447 ]\n"
     ]
    },
    {
     "data": {
      "image/png": "[encoded data removed]",
      "text/plain": [
       "<Figure size 640x480 with 1 Axes>"
      ]
     },
     "metadata": {},
     "output_type": "display_data"
    },
    {
     "data": {
      "image/png": "[encoded data removed]",
      "text/plain": [
       "<Figure size 640x480 with 1 Axes>"
      ]
     },
     "metadata": {},
     "output_type": "display_data"
    },
    {
     "name": "stdout",
     "output_type": "stream",
     "text": [
      "The predicted salary of a person with 15 years experience is  [167005.32889087]\n",
      "Object `offer` not found.\n",
      "Intercept ... Fresher Salary:  26816.19224403119\n",
      "Coefficient ... Additional Salary for Each Additional Year's Experience:  [9345.94244312]\n",
      "MAE = 3426.4269374307123\n",
      "MSE = 21026037.329511296\n",
      "RMSE = 4585.4157204675885\n"
     ]
    }
   ],
   "source": [
    "import pandas as pd\n",
    "df = pd.read_csv('salary.csv')\n",
    "\n",
    "X = df.drop('Salary', axis=1).values  \n",
    "\n",
    "y = df['Salary']\n",
    "\n",
    "from sklearn.model_selection import train_test_split\n",
    "X_train, X_test, y_train, y_test = train_test_split(X, y, test_size=1/3, random_state=0)\n",
    "\n",
    "from sklearn.linear_model import LinearRegression\n",
    "regressor = LinearRegression()\n",
    "regressor.fit(X_train, y_train)\n",
    "\n",
    "y_pred = regressor.predict(X_test)\n",
    "print (y_pred)\n",
    "\n",
    "import matplotlib.pyplot as plt\n",
    "\n",
    "plt.scatter(X_train, y_train, color = 'red')\n",
    "\n",
    "plt.plot(X_train, regressor.predict(X_train), color='blue')\n",
    "plt.title('Salary vs Experience (Training set)')\n",
    "plt.xlabel('Years of Experience')\n",
    "plt.ylabel('Salary')\n",
    "plt.show()\n",
    "\n",
    "import matplotlib.pyplot as plt\n",
    "\n",
    "plt.scatter(X_test, y_test, color = 'red')\n",
    "\n",
    "plt.plot(X_test, regressor.predict(X_test), color='blue')\n",
    "plt.title('Salary vs Experience (Test set)')\n",
    "plt.xlabel('Years of Experience')\n",
    "plt.ylabel('Salary')\n",
    "plt.show()\n",
    "\n",
    "new_salary_pred = regressor.predict([[15]])\n",
    "print('The predicted salary of a person with 15 years experience is ',new_salary_pred)\n",
    "\n",
    "salary will we offer?\n",
    "print(\"Intercept ... Fresher Salary: \", regressor.intercept_)\n",
    "print(\"Coefficient ... Additional Salary for Each Additional Year's Experience: \", regressor.coef_)\n",
    "\n",
    "\n",
    "from sklearn.metrics import mean_absolute_error,mean_squared_error\n",
    "import numpy as np\n",
    "\n",
    "MAE = mean_absolute_error(y_test,y_pred)\n",
    "MSE = mean_squared_error(y_test,y_pred)\n",
    "RMSE = np.sqrt(MSE)\n",
    "\n",
    "print(f\"MAE = {MAE}\") \n",
    "\n",
    "print(f\"MSE = {MSE}\")\n",
    "\n",
    "print(f\"RMSE = {RMSE}\")\n",
    "\n",
    "\n"
   ]
  },
  {
   "cell_type": "code",
   "execution_count": null,
   "id": "b25e10c5-0193-414b-8be7-017851ae39cb",
   "metadata": {},
   "outputs": [],
   "source": []
  },
  {
   "cell_type": "code",
   "execution_count": null,
   "id": "4a75c942-05dd-49bf-b114-5dbbb7590194",
   "metadata": {},
   "outputs": [],
   "source": []
  },
  {
   "cell_type": "code",
   "execution_count": 187,
   "id": "1e4a015c-2d7e-4a5b-ad4a-f502ee740af9",
   "metadata": {},
   "outputs": [],
   "source": [
    "#one sample T test"
   ]
  },
  {
   "cell_type": "code",
   "execution_count": null,
   "id": "15508a8b-fd7f-4e33-8907-531dff469d6c",
   "metadata": {},
   "outputs": [],
   "source": [
    "data = pd.read_csv('Mall_Customers.csv')\n",
    "age_data = data['Age']\n",
    "age_data"
   ]
  },
  {
   "cell_type": "code",
   "execution_count": null,
   "id": "7178c77e-f1fa-4468-8aa7-d8b829056f98",
   "metadata": {},
   "outputs": [],
   "source": [
    "pop_avg_age = 40"
   ]
  },
  {
   "cell_type": "code",
   "execution_count": null,
   "id": "eaef8311-eb0f-40cb-a56f-bf6da9c87cca",
   "metadata": {},
   "outputs": [],
   "source": [
    "t_statistic, p_value = stats.ttest_1samp(age_data, pop_avg_age)\n",
    "degrees_of_freedom = len(age_data) - 1"
   ]
  },
  {
   "cell_type": "code",
   "execution_count": null,
   "id": "0d4c2e5c-36ba-4a76-a9bd-d0eb336ec1c4",
   "metadata": {},
   "outputs": [],
   "source": [
    "print(\"T-statistic:\", t_statistic)\n",
    "print(\"P-value:\", p_value)\n",
    "print(\"Degrees of freedom:\", degrees_of_freedom)"
   ]
  },
  {
   "cell_type": "code",
   "execution_count": null,
   "id": "639452b1-ac5e-4296-b549-70e172cd8ef4",
   "metadata": {},
   "outputs": [],
   "source": [
    "#Interpretation\n",
    "alpha = 0.025\n",
    "if p_value <alpha:\n",
    "    print(\"The null hypothesis (mean age =40) is rejected.\")\n",
    "else:\n",
    "    print(\"The null hypothesis (mean age = 40) cannot be rejected.\")"
   ]
  },
  {
   "cell_type": "code",
   "execution_count": null,
   "id": "f755b0f1-18cb-4df3-8e97-0605977497cd",
   "metadata": {},
   "outputs": [],
   "source": [
    "critical_value = stats.t.ppf(1- alpha, degrees_of_freedom)\n",
    "print(\"Critical value: \", critical_value)"
   ]
  },
  {
   "cell_type": "code",
   "execution_count": null,
   "id": "7cbf24f1-d9a6-42e5-b0a5-a9b7c2eea214",
   "metadata": {},
   "outputs": [],
   "source": [
    "critical_value = stats.t.ppf(1- alpha, degrees_of_freedom)\n",
    "print(\"Critical value: \", critical_value)"
   ]
  },
  {
   "cell_type": "code",
   "execution_count": null,
   "id": "99967422-d301-4812-a9c0-dd7c37f0f88a",
   "metadata": {},
   "outputs": [],
   "source": [
    "#Two-tailed t-test (Because we are just checking if sample mean = population mean)\n",
    "#So, we need to take absolute value of t-statistic\n",
    "if (abs(t_statistic)< critical_value):\n",
    "    print(\"The null hypothesis (mean age = 40) cannot be rejected.\")\n",
    "else:\n",
    "    print(\"The null hypothesis (mean age = 40) is rejected.\")\n",
    "    "
   ]
  },
  {
   "cell_type": "code",
   "execution_count": null,
   "id": "40ac16b9-1c55-44d2-ac3a-9004c72e9acb",
   "metadata": {},
   "outputs": [],
   "source": []
  },
  {
   "cell_type": "code",
   "execution_count": null,
   "id": "00a8ba98-b1f0-4386-9ec0-5203ba6587f0",
   "metadata": {},
   "outputs": [],
   "source": [
    "#Independence test "
   ]
  },
  {
   "cell_type": "code",
   "execution_count": null,
   "id": "5ef6ccc2-8f5e-4f64-8e17-e1dd04f0435a",
   "metadata": {},
   "outputs": [],
   "source": [
    "data = pd.read_csv('Mall_Customers.csv')\n",
    "data"
   ]
  },
  {
   "cell_type": "code",
   "execution_count": null,
   "id": "2401e1ab-c29e-4f50-8b48-8da2b02664f4",
   "metadata": {},
   "outputs": [],
   "source": [
    "male_spending = data[data['Genre']=='Male']['Spending Score (1-100)']"
   ]
  },
  {
   "cell_type": "code",
   "execution_count": null,
   "id": "d52df2ff-7f45-43be-bd85-fd7b6a4f621a",
   "metadata": {},
   "outputs": [],
   "source": [
    "female_spending = data[data['Genre']=='Female']['Spending Score (1-100)']"
   ]
  },
  {
   "cell_type": "code",
   "execution_count": null,
   "id": "f8480b47-5ec0-4767-9ff9-d8a4ba5ac284",
   "metadata": {},
   "outputs": [],
   "source": [
    "t_statistics,p_value = stats.ttest_ind(male_spending,female_spending)"
   ]
  },
  {
   "cell_type": "code",
   "execution_count": null,
   "id": "0a8126c1-90b7-4c1f-9a4b-f575caa380ec",
   "metadata": {},
   "outputs": [],
   "source": [
    "n_male = len(male_spending)\n",
    "n_female = len(female_spending)"
   ]
  },
  {
   "cell_type": "code",
   "execution_count": null,
   "id": "a2744742-6cde-484d-8144-109d1e5b20db",
   "metadata": {},
   "outputs": [],
   "source": [
    "degree_of_freedom = n_male + n_female  - 2"
   ]
  },
  {
   "cell_type": "code",
   "execution_count": null,
   "id": "f1d99d37-e7af-420c-94fb-9f2fdc384747",
   "metadata": {},
   "outputs": [],
   "source": [
    "alpha = 0.025"
   ]
  },
  {
   "cell_type": "code",
   "execution_count": null,
   "id": "e7e73284-f39a-4267-8050-9fa3feca3eb7",
   "metadata": {},
   "outputs": [],
   "source": [
    "critical_value = stats.t.ppf(1-alpha,degree_of_freedom)"
   ]
  },
  {
   "cell_type": "code",
   "execution_count": null,
   "id": "cda92225-76d6-42ac-a614-2b72eca65cea",
   "metadata": {},
   "outputs": [],
   "source": [
    "print(\"T-statics : \",t_statistics)\n",
    "print(\"P-value : \",p_value)\n",
    "print(\"Degree of Freedom : \",degree_of_freedom)"
   ]
  },
  {
   "cell_type": "code",
   "execution_count": null,
   "id": "6b74cf8a-0c8d-4c9e-9d4c-91b8b0ae423e",
   "metadata": {},
   "outputs": [],
   "source": [
    "if p_value < alpha:\n",
    "    print(\"There is significant  differnce in spending score between male and female groups\")\n",
    "else:\n",
    "    print(\"There is no significant  differnce in spending score between male and female groups\")"
   ]
  },
  {
   "cell_type": "code",
   "execution_count": null,
   "id": "3e90fca4-d476-42d4-b0fc-79bc46124ee6",
   "metadata": {},
   "outputs": [],
   "source": [
    "if abs(t_statistics) > critical_value:\n",
    "    print(\"There is significant  differnce in spending score between male and female groups\")\n",
    "else:\n",
    "    print(\"There is no significant  differnce in spending score between male and female groups\")\n",
    "    s"
   ]
  },
  {
   "cell_type": "code",
   "execution_count": null,
   "id": "14480010-568b-4e7d-8ea0-568529f9066f",
   "metadata": {},
   "outputs": [],
   "source": [
    "# import numpy as np\n",
    "# from sklearn.linear_model import LinearRegression\n",
    "\n",
    "# # Sample data\n",
    "# X = np.array([[1, 1], [1, 2], [2, 2], [2, 3]])\n",
    "# y = np.dot(X, np.array([1, 2])) + 3\n",
    "\n",
    "# # Create a linear regression model\n",
    "# model = LinearRegression().fit(X, y)\n",
    "\n",
    "# # Print the coefficients\n",
    "# print(\"Coefficients:\", model.coef_)\n",
    "# print(\"Intercept:\", model.intercept_)\n",
    "\n",
    "# # Predict a new value\n",
    "# new_data = np.array([[3, 5]])\n",
    "# prediction = model.predict(new_data)\n",
    "# print(\"Prediction for new data:\", prediction)\n"
   ]
  },
  {
   "cell_type": "code",
   "execution_count": null,
   "id": "180b3501-7a57-4cc7-9b68-5e515e58b698",
   "metadata": {},
   "outputs": [],
   "source": [
    "# print(\"Male Percentage : {:.2f} \".format(male_percent))\n",
    "# print(\"Feale Percentage : {:.2f}\".format(female_percent))\n",
    "# print(\"Other Percentage : {:.2f}\".format(other_percent))\n"
   ]
  },
  {
   "cell_type": "code",
   "execution_count": null,
   "id": "8f6d92d5-a5cc-4589-83aa-cd8a6a37ef88",
   "metadata": {},
   "outputs": [],
   "source": [
    "df.drop_duplicates(subset=['col'])"
   ]
  },
  {
   "cell_type": "code",
   "execution_count": null,
   "id": "8357fca9-8cd9-49aa-a25f-002a004f775f",
   "metadata": {},
   "outputs": [],
   "source": [
    "df.rename(columns= {'old':'new'})"
   ]
  },
  {
   "cell_type": "code",
   "execution_count": null,
   "id": "581cbac1-aa67-4dc4-a4ad-26c67078afa5",
   "metadata": {},
   "outputs": [],
   "source": [
    "df['col']= df['col'].str.strip()"
   ]
  },
  {
   "cell_type": "code",
   "execution_count": null,
   "id": "17db061a-b10c-499d-b57d-3a390276e493",
   "metadata": {},
   "outputs": [],
   "source": [
    "data.drop_duplicates(inplace=True)"
   ]
  },
  {
   "cell_type": "code",
   "execution_count": null,
   "id": "4f2b460c-e8c3-40bd-aaee-495c4dacbddb",
   "metadata": {},
   "outputs": [],
   "source": [
    "data['column1'].corr(data['column2']"
   ]
  },
  {
   "cell_type": "code",
   "execution_count": null,
   "id": "405c34f1-06bb-4d54-97b1-912e1f3ba761",
   "metadata": {},
   "outputs": [],
   "source": [
    "LOGISTIC REGRESSION\n",
    "\n",
    "import pandas as pd\n",
    "from sklearn.preprocessing import StandardScaler, OneHotEncoder\n",
    "from sklearn.model_selection import train_test_split\n",
    "from sklearn.linear_model import LogisticRegression\n",
    "from sklearn.metrics import confusion_matrix, accuracy_score\n",
    "import matplotlib.pyplot as plt\n",
    "\n",
    "# Read the data from the CSV file\n",
    "df = pd.read_csv(\"titanic-tested.csv\")\n",
    "\n",
    "# Select desired columns\n",
    "selected_columns = [\"Survived\", \"Pclass\", \"Gender\", \"Age\", \"SibSp\", \"Parch\", \"Embarked\"]\n",
    "df = df[selected_columns]\n",
    "\n",
    "# Separate features and label\n",
    "X = df.drop(\"Survived\", axis=1)\n",
    "y = df[\"Survived\"]\n",
    "\n",
    "# Split data into training and testing sets\n",
    "X_train, X_test, y_train, y_test = train_test_split(X, y, test_size=0.2, random_state=42)\n",
    "\n",
    "# One-hot encode categorical features\n",
    "categorical_features = [\"Pclass\", \"Gender\", \"SibSp\", \"Parch\", \"Embarked\"]\n",
    "encoder = OneHotEncoder(sparse=False, handle_unknown='ignore')\n",
    "encoded_train = encoder.fit_transform(X_train[categorical_features])\n",
    "encoded_test = encoder.transform(X_test[categorical_features])\n",
    "\n",
    "# Combine encoded features with numerical features (Age)\n",
    "X_train = pd.concat([X_train.drop(categorical_features, axis=1), pd.DataFrame(encoded_train)], axis=1)\n",
    "X_test = pd.concat([X_test.drop(categorical_features, axis=1), pd.DataFrame(encoded_test)], axis=1)\n",
    "\n",
    "print(X_train.columns)\n",
    "\n",
    "# Check for mixed data types in feature names (if needed)\n",
    "if not all(isinstance(col, str) for col in X_train.columns):\n",
    "    X_train.columns = X_train.columns.astype(str)\n",
    "    X_test.columns = X_test.columns.astype(str)\n",
    "\n",
    "# Drop samples with missing values (optional, consider imputation if needed)\n",
    "missing_rows = X_train.isna().any(axis=1)  # Check if any value is NaN in each row\n",
    "X_train_filtered = X_train.loc[~missing_rows]  # Filter out rows with missing values (optional)\n",
    "y_train_filtered = y_train.loc[~missing_rows]  # Filter labels accordingly (optional)\n",
    "\n",
    "missing_rows = X_test.isna().any(axis=1)  # Check if any value is NaN in each row\n",
    "X_test_filtered = X_test.loc[~missing_rows]  # Filter out rows with missing values (optional)\n",
    "y_test_filtered = y_test.loc[~missing_rows]  # Filter labels accordingly (optional)\n",
    "\n",
    "# Standard scale the Age feature\n",
    "scaler = StandardScaler()\n",
    "scaler.fit(X_train_filtered[[\"Age\"]])  # Fit only on filtered data (optional)\n",
    "X_train_filtered.loc[:, \"Age\"] = scaler.transform(X_train_filtered[[\"Age\"]])\n",
    "X_test_filtered.loc[:, \"Age\"] = scaler.transform(X_test_filtered[[\"Age\"]])  # Use the same scaler for testing data\n",
    "\n",
    "# Perform logistic regression (classification)\n",
    "model = LogisticRegression()\n",
    "model.fit(X_train_filtered, y_train_filtered)\n",
    "\n",
    "# Make predictions on testing set\n",
    "y_pred = model.predict(X_test_filtered)\n",
    "\n",
    "# Actual vs Predicted Plot\n",
    "plt.scatter(y_test_filtered, y_pred)\n",
    "plt.xlabel(\"Actual\")\n",
    "plt.ylabel(\"Predicted\")\n",
    "plt.title(\"Actual vs. Predicted Survived Values\")\n",
    "plt.show()\n",
    "\n",
    "# Calculate accuracy (using accuracy_score for classification)\n",
    "accuracy = accuracy_score(y_test_filtered, y_pred)\n",
    "print(f\"Accuracy: {accuracy:.4f}\")\n",
    "\n",
    "# Calculate confusion matrix (for classification)\n",
    "confusion_matrix = confusion_matrix(y_test_filtered, y_pred)\n",
    "print(\"\\nConfusion Matrix:\")\n",
    "print(confusion_matrix)\n"
   ]
  },
  {
   "cell_type": "code",
   "execution_count": null,
   "id": "7bdfb2b2-01f2-48a9-929c-5d3681c86805",
   "metadata": {},
   "outputs": [],
   "source": []
  },
  {
   "cell_type": "code",
   "execution_count": null,
   "id": "4b01ef21-2407-401f-9218-41d66e45ed50",
   "metadata": {},
   "outputs": [],
   "source": [
    "MULTIPLE REGRESSION\n",
    "\n",
    "import numpy as np\n",
    "import pandas as pd\n",
    "import matplotlib.pyplot as plt\n",
    "import seaborn as sns\n",
    "import warnings\n",
    "warnings.filterwarnings('ignore')\n",
    "\n",
    "data = pd.read_csv('Student_Performance.csv')\n",
    "\n",
    "print (data.head())\n",
    "print (data.info())\n",
    "print (data.isnull().sum())\n",
    "print (data.shape)\n",
    "print (data.duplicated().sum())\n",
    "\n",
    "data.drop_duplicates(inplace=True)\n",
    "\n",
    "print(data.describe().T)\n",
    "\n",
    "# Check correlation using a heatmap\n",
    "sns.heatmap(data=data.select_dtypes(exclude=\"object\").corr(), annot=True, cmap=\"vlag\")\n",
    "plt.show()\n",
    "\n",
    "# Prepare for training, testing split - All features in x, the predicted value in y\n",
    "x = data.iloc[:,:-1].values\n",
    "y = data.iloc[:,-1].values\n",
    "# x will now contain Hours studied, Previous scores, Extracurricluar activities, Sleep Hours, and Sample Question Papers Practiced (Features)\n",
    "# y will contain the outcome (Performance Index)\n",
    "\n",
    "print(x)\n",
    "print(y)\n",
    "\n",
    "# Do one-hot encoding\n",
    "from sklearn.preprocessing import LabelEncoder, OneHotEncoder\n",
    "label = LabelEncoder()\n",
    "x[:,2]= label.fit_transform(x[:,2])\n",
    "print(x)\n",
    "\n",
    "# Split data into training and testing\n",
    "from sklearn.model_selection import train_test_split\n",
    "x_train,x_test,y_train,y_test = train_test_split(x,y,test_size = 0.2,random_state = 0)\n",
    "\n",
    "print(y_train.shape)\n",
    "print(y_test.shape)\n",
    "\n",
    "# Perform linear regression\n",
    "from sklearn.linear_model import LinearRegression\n",
    "model = LinearRegression()\n",
    "model.fit(x_train,y_train)\n",
    "\n",
    "# Print results\n",
    "pred = model.predict(x_test)\n",
    "print('Train score :{} \\n Test score {}'.format(model.score(x_train,y_train),model.score(x_test,y_test)))\n",
    "\n",
    "print(pred)\n",
    "\n",
    "# Check accuracy\n",
    "from sklearn.metrics import mean_absolute_error, r2_score, mean_squared_error\n",
    "print('MSE : {} \\n Mean absolute error : {} \\n r2_score :{}'.format( mean_squared_error(y_test,pred), mean_absolute_error(y_test,pred), r2_score(y_test,pred)))\n",
    "\n",
    "# Create a new DF containing actual Performance Index value and predicted Performance Index value for the test set\n",
    "\n",
    "df_compare = pd.DataFrame()\n",
    "df_compare['actual'] = y_test\n",
    "df_compare['predicted'] = pred\n",
    "\n",
    "print(df_compare)\n",
    "\n",
    "# Create regression plot of the actual versus predicted\n",
    "correlation_coefficient = df_compare['actual'].corr(df_compare['predicted'])\n",
    "\n",
    "print(f'Correlation Coefficient: {correlation_coefficient}')\n",
    "\n",
    "# Plot a scatter plot to visualize the data\n",
    "plt.scatter(df_compare['actual'], df_compare['predicted'])\n",
    "plt.xlabel('Actual Performance Index Value')\n",
    "plt.ylabel('Predicted Performance Index Value')\n",
    "plt.title(f'Scatter Plot (Correlation: {correlation_coefficient:.2f})')\n",
    "plt.show()"
   ]
  },
  {
   "cell_type": "code",
   "execution_count": null,
   "id": "052800f4-f7c1-4007-b5b3-903b041367b1",
   "metadata": {},
   "outputs": [],
   "source": []
  },
  {
   "cell_type": "code",
   "execution_count": null,
   "id": "20d7f046-9b4e-460d-8ecc-e80395f53d79",
   "metadata": {},
   "outputs": [],
   "source": [
    "frames = [df4, df1, df2, df3]\n",
    "df= pd.concat(frames)"
   ]
  },
  {
   "cell_type": "code",
   "execution_count": null,
   "id": "e4a5b856-7ad1-4159-b7a5-997680016261",
   "metadata": {},
   "outputs": [],
   "source": [
    "print(\"{:.2f}\".format(avg))"
   ]
  },
  {
   "cell_type": "code",
   "execution_count": null,
   "id": "28f76c5b-39d7-4d44-80da-bb7e37053273",
   "metadata": {},
   "outputs": [],
   "source": [
    "df.set_index('Email')"
   ]
  },
  {
   "cell_type": "code",
   "execution_count": null,
   "id": "8d609147-85e7-418e-988d-4391a29dc0f1",
   "metadata": {},
   "outputs": [],
   "source": []
  },
  {
   "cell_type": "code",
   "execution_count": null,
   "id": "84e54895-e328-43e0-8313-414fc4e48fd7",
   "metadata": {},
   "outputs": [],
   "source": [
    "np.ones(10)\n",
    "np.zeros(10)\n",
    "np.isinfinite(arr) #real,complex,scalar\n",
    "np.array([])\n",
    "\n",
    "np.linspace(s,e,n)\n",
    "np.random.rand(1)\n",
    "np.random.randint(1)\n"
   ]
  },
  {
   "cell_type": "code",
   "execution_count": null,
   "id": "ead167fb-80bc-48fc-89b7-a6122660fbc7",
   "metadata": {},
   "outputs": [],
   "source": [
    "df['col'] = df['col'].str.replace('old','new',regex = False)"
   ]
  },
  {
   "cell_type": "code",
   "execution_count": null,
   "id": "8ee43745-af49-42da-a423-f978ae9661d9",
   "metadata": {},
   "outputs": [],
   "source": [
    "df['col'] = pd.to_datetime(df['col'],dayfirst=True)"
   ]
  },
  {
   "cell_type": "code",
   "execution_count": null,
   "id": "fde035fc-08e3-4721-8dcd-e035ba22408e",
   "metadata": {},
   "outputs": [],
   "source": []
  },
  {
   "cell_type": "code",
   "execution_count": null,
   "id": "bf6057e4-4f17-4c34-ae09-94dcb31b0b6a",
   "metadata": {},
   "outputs": [],
   "source": [
    "df_new['season'] = np.where((df_new['start_month'] == 6) | (df_new['start_month'] == 8) | (df_new['start_month'] == 9) | (df_new['start_month'] == 10) , \"Monsoon\", df_new['season'])\n",
    "df_new['season'] = np.where((df_new['start_month'] == 7) ,\"Rainy\", df_new['season'])\n",
    "df_new['season'] = np.where((df_new['start_month'] == 11) | (df_new['start_month'] == 12)  ,\"Winter\",df_new['season'])\n",
    "df_new['season'] = np.where((df_new['start_month'] == 3) |( df_new['start_month'] == 4) | (df_new['start_month'] == 5) ,\"Spring\",df_new['season'])"
   ]
  },
  {
   "cell_type": "code",
   "execution_count": null,
   "id": "454e8f55-8d4e-4f69-b520-a8ad33c8fd99",
   "metadata": {},
   "outputs": [],
   "source": [
    "df.reset_index()"
   ]
  },
  {
   "cell_type": "code",
   "execution_count": null,
   "id": "464f867f-e165-4bed-8591-f47d96420e3b",
   "metadata": {},
   "outputs": [],
   "source": [
    "fmatch = df['col'].dt.date.min.strftime('%B %d %y')"
   ]
  },
  {
   "cell_type": "code",
   "execution_count": null,
   "id": "c640aa82-b96d-42ad-a84e-89a28e857cae",
   "metadata": {},
   "outputs": [],
   "source": [
    "df = df.set_index('col')"
   ]
  },
  {
   "cell_type": "code",
   "execution_count": null,
   "id": "33811b11-c50e-4196-bbed-29973cea9e6d",
   "metadata": {},
   "outputs": [],
   "source": [
    "df['col'] = np.round(df['col'],2)"
   ]
  },
  {
   "cell_type": "code",
   "execution_count": null,
   "id": "2d5b19e1-9132-4187-9bae-63d56cbef9ae",
   "metadata": {},
   "outputs": [],
   "source": [
    "df.dropna(axis=1)\n",
    "df.dropna(how='all')\n",
    "df.dropna(thresh= 2)\n",
    "df.dropna(subset=['col1','col2'])\n"
   ]
  },
  {
   "cell_type": "code",
   "execution_count": null,
   "id": "327dc321-de24-40bc-8e72-77bf60d1c57d",
   "metadata": {},
   "outputs": [],
   "source": [
    "df.fillna(method='ffill')\n",
    "df.fillna(method='bfill')"
   ]
  },
  {
   "cell_type": "code",
   "execution_count": null,
   "id": "46e3596a-5c47-4a2a-861d-6fcf1500d4de",
   "metadata": {},
   "outputs": [],
   "source": [
    "fig,ax = plt.subplots(2,2)\n",
    "ax[0][0].plot(a,b)"
   ]
  },
  {
   "cell_type": "code",
   "execution_count": null,
   "id": "dbbf4263-7df7-479d-b30b-0a0e14e540da",
   "metadata": {},
   "outputs": [],
   "source": [
    "plt.subplot(1, 2, 1)\n",
    "plt.plot(x,y)\n",
    "\n",
    "plt.subplot(1, 2, 2)\n",
    "plt.plot(x,y)\n",
    "\n",
    "plt.show()"
   ]
  },
  {
   "cell_type": "code",
   "execution_count": null,
   "id": "4c432eaa-7cac-4b63-815d-683f12560acf",
   "metadata": {},
   "outputs": [],
   "source": [
    "plt.plot()\n",
    "plt.grid()\n",
    "plt.xticks(rotation = 45)\n"
   ]
  },
  {
   "cell_type": "code",
   "execution_count": null,
   "id": "e068f289-8c7f-4a75-927e-4203c36fa3dc",
   "metadata": {},
   "outputs": [],
   "source": [
    "plt.axvline(mean,color='red', linestyle='',label='')\n",
    "plt.tight_layout()"
   ]
  },
  {
   "cell_type": "code",
   "execution_count": null,
   "id": "3bdd8057-f77c-4be4-a593-b3311bdf338a",
   "metadata": {},
   "outputs": [],
   "source": []
  },
  {
   "cell_type": "code",
   "execution_count": null,
   "id": "795f5512-75b1-4e48-83f6-d13064e8b387",
   "metadata": {},
   "outputs": [],
   "source": [
    "SKEW EXAMPLE"
   ]
  },
  {
   "cell_type": "code",
   "execution_count": null,
   "id": "a12ace13-c317-417e-b2ff-e8934d12dbd1",
   "metadata": {},
   "outputs": [],
   "source": [
    "sample_size = 1000\n",
    "ratings = np.random.randint(1,6,sample_size)"
   ]
  },
  {
   "cell_type": "code",
   "execution_count": null,
   "id": "0e7967a1-7903-4953-ac9d-7366c7ecadcf",
   "metadata": {},
   "outputs": [],
   "source": [
    "right_skew_data = np.concatenate((ratings,np.random.randint(1,2,sample_size//2)))"
   ]
  },
  {
   "cell_type": "code",
   "execution_count": null,
   "id": "e6108cea-5c84-4727-bc7f-df67e80cb760",
   "metadata": {},
   "outputs": [],
   "source": [
    "left_skew_data = np.concatenate((ratings,np.random.randint(4,6,sample_size//2)))"
   ]
  },
  {
   "cell_type": "code",
   "execution_count": null,
   "id": "248a5365-3867-4e32-9006-cd88b760ad9d",
   "metadata": {},
   "outputs": [],
   "source": [
    "def calculate_stats(data):\n",
    "    mean = np.mean(data)\n",
    "    median = np.median(data)\n",
    "    skewness= skew(data)\n",
    "    return mean,median,skewness"
   ]
  },
  {
   "cell_type": "code",
   "execution_count": null,
   "id": "c13c03df-5b17-4319-a653-585e55d0dbda",
   "metadata": {},
   "outputs": [],
   "source": [
    "def plot_histogram(ax,data,title):\n",
    "    ax.hist(data,bins=5,rwidth=0.8,alpha=0.7)\n",
    "    ax.set_title(title)\n",
    "    ax.set_xlabel('Rating')\n",
    "    ax.set_ylabel('Frequency')\n",
    "    ax.set_xticks(range(1,6))\n",
    "    \n",
    "    ax.grid(axis='y',alpha=0.5)\n",
    "    \n",
    "    mean,median,skewness = calculate_stats(data)\n",
    "    ax.axvline(x=mean,color='red',linestyle='--',label=f'Mean: {mean:.2f}')\n",
    "    ax.axvline(x=median,color='blue',linestyle='--',label=f'Median: {median}')\n",
    "    ax.legend()\n",
    "\n",
    "    print(f'{title}')\n",
    "    print(f'Mean:{mean:.2f}')\n",
    "    print(f'Median: {median}')\n",
    "    print(f'Skewness:{skewness:.2f}')\n",
    "    print()\n",
    "   "
   ]
  },
  {
   "cell_type": "code",
   "execution_count": null,
   "id": "fa416b64-1156-4098-91a2-0d73ae7d75cc",
   "metadata": {},
   "outputs": [],
   "source": [
    "fig,axs = plt.subplots(1,3,figsize=(15,5))\n",
    "plot_histogram(axs[0],ratings,'No skew')\n",
    "plot_histogram(axs[1],right_skew_data,'Right skew')\n",
    "plot_histogram(axs[2],left_skew_data,'Left skew')\n",
    "plt.tight_layout()\n",
    "plt.show()"
   ]
  },
  {
   "cell_type": "code",
   "execution_count": null,
   "id": "a3e64d97-d601-4825-8d7b-30a1bfa0398b",
   "metadata": {},
   "outputs": [],
   "source": []
  },
  {
   "cell_type": "code",
   "execution_count": null,
   "id": "d1ac8800-4191-4ae2-b8d2-7be9eb573af3",
   "metadata": {},
   "outputs": [],
   "source": [
    "df['col1','col2'].corr()\n",
    "df['col1','col2'].cov()"
   ]
  },
  {
   "cell_type": "code",
   "execution_count": null,
   "id": "57a5e8d5-fa76-4c41-b37c-72c72e9b7390",
   "metadata": {},
   "outputs": [],
   "source": []
  },
  {
   "cell_type": "code",
   "execution_count": null,
   "id": "c85cb2ed-390a-4bbf-b29c-46226ae89e33",
   "metadata": {},
   "outputs": [],
   "source": [
    "BINOM"
   ]
  },
  {
   "cell_type": "code",
   "execution_count": null,
   "id": "4c9caa01-0707-4920-a0ee-a04d58fdfde3",
   "metadata": {},
   "outputs": [],
   "source": [
    "tips_df = pd.read_csv('tips.csv')"
   ]
  },
  {
   "cell_type": "code",
   "execution_count": null,
   "id": "2f85abb3-898d-474b-a20f-04db6ae63307",
   "metadata": {},
   "outputs": [],
   "source": [
    "def classify_tip(row):\n",
    "    total_bill = row['total_bill']\n",
    "    tip  = row['tip']\n",
    "    if (tip/total_bill) > 0.15:\n",
    "        return 1\n",
    "    else:\n",
    "        return 0"
   ]
  },
  {
   "cell_type": "code",
   "execution_count": null,
   "id": "bd6f8f80-d4e5-483d-87fe-85c543a0f38e",
   "metadata": {},
   "outputs": [],
   "source": [
    "tips_df['tip_binary'] = tips_df.apply(classify_tip,axis=1)"
   ]
  },
  {
   "cell_type": "code",
   "execution_count": null,
   "id": "25c1afa5-44e9-4302-9c51-1866a1c41e15",
   "metadata": {},
   "outputs": [],
   "source": [
    "n = len(tips_df)"
   ]
  },
  {
   "cell_type": "code",
   "execution_count": null,
   "id": "eea2ad39-ba3e-4df5-a2d9-362382b456d7",
   "metadata": {},
   "outputs": [],
   "source": [
    "k = tips_df['tip_binary'].sum()"
   ]
  },
  {
   "cell_type": "code",
   "execution_count": null,
   "id": "6feb0399-dbf5-4929-8eb8-26bdb9fc66fe",
   "metadata": {},
   "outputs": [],
   "source": [
    "p = k/n"
   ]
  },
  {
   "cell_type": "code",
   "execution_count": null,
   "id": "835e7ff4-d444-4cb6-b082-01a0d7c92623",
   "metadata": {},
   "outputs": [],
   "source": [
    "trials = 100"
   ]
  },
  {
   "cell_type": "code",
   "execution_count": null,
   "id": "10b9dd93-738d-409a-ac10-b60026ef82b7",
   "metadata": {},
   "outputs": [],
   "source": [
    "x = np.arange(0,trials+1)"
   ]
  },
  {
   "cell_type": "code",
   "execution_count": null,
   "id": "f4fc7f76-811e-4785-aeed-bb4567beedb0",
   "metadata": {},
   "outputs": [],
   "source": [
    "pmf_values = binom.pmf(x,trials,p)"
   ]
  },
  {
   "cell_type": "code",
   "execution_count": null,
   "id": "22444aff-4411-4d7c-8ee6-fe4fe3aec9df",
   "metadata": {},
   "outputs": [],
   "source": [
    "cumulative_probability = 0"
   ]
  },
  {
   "cell_type": "code",
   "execution_count": null,
   "id": "2cd3e9c8-1b5e-450e-af8c-fd50d65dc8b3",
   "metadata": {},
   "outputs": [],
   "source": [
    "for i in x:\n",
    "    cumulative_probability = binom.cdf(i,trials ,p)\n",
    "    print(f\"Probability for {i} success = {pmf_values[i]:.6f} ... Cumulative_probability = {cumulative_probability:.6f}\")"
   ]
  },
  {
   "cell_type": "code",
   "execution_count": null,
   "id": "dc919bce-efe2-4126-aa2d-f61c50542e04",
   "metadata": {},
   "outputs": [],
   "source": []
  },
  {
   "cell_type": "code",
   "execution_count": null,
   "id": "f2aecc76-0ed6-4a17-8601-1302fb67f709",
   "metadata": {},
   "outputs": [],
   "source": []
  },
  {
   "cell_type": "code",
   "execution_count": null,
   "id": "e9c12e92-0e8e-4c1f-99e4-7817d2144695",
   "metadata": {},
   "outputs": [],
   "source": []
  },
  {
   "cell_type": "code",
   "execution_count": null,
   "id": "2f0d5f26-a389-4be1-aa25-f2775b87ace6",
   "metadata": {},
   "outputs": [],
   "source": []
  },
  {
   "cell_type": "code",
   "execution_count": null,
   "id": "430a8666-9314-493c-a3d5-2799492a9788",
   "metadata": {},
   "outputs": [],
   "source": []
  },
  {
   "cell_type": "code",
   "execution_count": null,
   "id": "6b69a548-19c2-457f-84ad-67197cb6130b",
   "metadata": {},
   "outputs": [],
   "source": []
  },
  {
   "cell_type": "code",
   "execution_count": null,
   "id": "ff24a444-38a9-4868-ac5f-aef8843ee2cd",
   "metadata": {},
   "outputs": [],
   "source": []
  },
  {
   "cell_type": "code",
   "execution_count": null,
   "id": "636ff78e-00d4-4342-a919-928a6186c9ea",
   "metadata": {},
   "outputs": [],
   "source": []
  },
  {
   "cell_type": "code",
   "execution_count": null,
   "id": "6012ceb6-b1ad-4028-ae4c-947dbac349bb",
   "metadata": {},
   "outputs": [],
   "source": []
  },
  {
   "cell_type": "code",
   "execution_count": null,
   "id": "16a2fd30-3768-470c-ae36-02dc9ff28de5",
   "metadata": {},
   "outputs": [],
   "source": []
  },
  {
   "cell_type": "code",
   "execution_count": null,
   "id": "baa795c1-c6c6-4fc5-a6d6-7cc328391c8c",
   "metadata": {},
   "outputs": [],
   "source": []
  }
 ],
 "metadata": {
  "kernelspec": {
   "display_name": "Python 3 (ipykernel)",
   "language": "python",
   "name": "python3"
  },
  "language_info": {
   "codemirror_mode": {
    "name": "ipython",
    "version": 3
   },
   "file_extension": ".py",
   "mimetype": "text/x-python",
   "name": "python",
   "nbconvert_exporter": "python",
   "pygments_lexer": "ipython3",
   "version": "3.12.4"
  }
 },
 "nbformat": 4,
 "nbformat_minor": 5
}
