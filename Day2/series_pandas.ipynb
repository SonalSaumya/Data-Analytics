{
 "cells": [
  {
   "cell_type": "code",
   "execution_count": 1,
   "id": "54f22ff7-242c-4937-99c5-1e10e4715139",
   "metadata": {},
   "outputs": [],
   "source": [
    "import pandas as pd\n",
    "import numpy as np"
   ]
  },
  {
   "cell_type": "code",
   "execution_count": 10,
   "id": "72850516-3a87-4e17-bcb8-5b23886f9aad",
   "metadata": {},
   "outputs": [],
   "source": [
    "myindex = ['USA','Canada','England','USA']\n",
    "mydata = [1245,2567,3535,26762]\n"
   ]
  },
  {
   "cell_type": "code",
   "execution_count": 11,
   "id": "e112ac3d-7195-48ed-ba8c-6efee6339002",
   "metadata": {},
   "outputs": [],
   "source": [
    "myser = pd.Series(data = mydata)"
   ]
  },
  {
   "cell_type": "code",
   "execution_count": 12,
   "id": "a5bb6d0d-932e-4e91-bc11-746b4dde82d6",
   "metadata": {},
   "outputs": [
    {
     "data": {
      "text/plain": [
       "0     1245\n",
       "1     2567\n",
       "2     3535\n",
       "3    26762\n",
       "dtype: int64"
      ]
     },
     "execution_count": 12,
     "metadata": {},
     "output_type": "execute_result"
    }
   ],
   "source": [
    "myser"
   ]
  },
  {
   "cell_type": "code",
   "execution_count": 13,
   "id": "6df6106c-4ea8-4c90-b7fa-8b7e4423230c",
   "metadata": {},
   "outputs": [
    {
     "data": {
      "text/plain": [
       "USA         1245\n",
       "Canada      2567\n",
       "England     3535\n",
       "USA        26762\n",
       "dtype: int64"
      ]
     },
     "execution_count": 13,
     "metadata": {},
     "output_type": "execute_result"
    }
   ],
   "source": [
    "myser = pd.Series(data=mydata, index=myindex)\n",
    "myser"
   ]
  },
  {
   "cell_type": "code",
   "execution_count": 14,
   "id": "0061ddab-1d00-48aa-860e-b802e4043230",
   "metadata": {},
   "outputs": [
    {
     "data": {
      "text/plain": [
       "array([13, 75, 28, 67])"
      ]
     },
     "execution_count": 14,
     "metadata": {},
     "output_type": "execute_result"
    }
   ],
   "source": [
    "ran_data = np.random.randint(0,100,4)\n",
    "ran_data"
   ]
  },
  {
   "cell_type": "code",
   "execution_count": 15,
   "id": "8354ef8a-bfcd-42a3-bc71-39dcbb38013f",
   "metadata": {},
   "outputs": [
    {
     "data": {
      "text/plain": [
       "['A', 'B', 'C', 'D']"
      ]
     },
     "execution_count": 15,
     "metadata": {},
     "output_type": "execute_result"
    }
   ],
   "source": [
    "names = ['A','B','C','D']\n",
    "names"
   ]
  },
  {
   "cell_type": "code",
   "execution_count": 16,
   "id": "d0ec4788-3581-4bf4-801f-5bfa556888ad",
   "metadata": {},
   "outputs": [
    {
     "data": {
      "text/plain": [
       "A    13\n",
       "B    75\n",
       "C    28\n",
       "D    67\n",
       "dtype: int32"
      ]
     },
     "execution_count": 16,
     "metadata": {},
     "output_type": "execute_result"
    }
   ],
   "source": [
    "ages = pd.Series(ran_data,names)\n",
    "ages"
   ]
  },
  {
   "cell_type": "code",
   "execution_count": 18,
   "id": "3cb9e0eb-730e-45c2-8386-456a023a86eb",
   "metadata": {},
   "outputs": [
    {
     "data": {
      "text/plain": [
       "a    1\n",
       "b    2\n",
       "c    3\n",
       "d    4\n",
       "dtype: int64"
      ]
     },
     "execution_count": 18,
     "metadata": {},
     "output_type": "execute_result"
    }
   ],
   "source": [
    "q1 = {'a':1,'b':2,'c':3,'d':4}\n",
    "sales_Q1 = pd.Series(q1)\n",
    "sales_Q1"
   ]
  },
  {
   "cell_type": "code",
   "execution_count": 21,
   "id": "26447d3a-d305-4f7f-88a5-0ea32fac2658",
   "metadata": {},
   "outputs": [
    {
     "data": {
      "text/plain": [
       "a    1\n",
       "b    2\n",
       "c    3\n",
       "d    4\n",
       "dtype: int64"
      ]
     },
     "execution_count": 21,
     "metadata": {},
     "output_type": "execute_result"
    }
   ],
   "source": [
    "q2 = {'a':5,'b':6,'c':7,'d':8}\n",
    "sales_Q2 = pd.Series(q1)\n",
    "sales_Q2"
   ]
  },
  {
   "cell_type": "code",
   "execution_count": 22,
   "id": "54ff94fb-99f1-4f64-a49e-840c4a6dbfaa",
   "metadata": {},
   "outputs": [
    {
     "data": {
      "text/plain": [
       "1"
      ]
     },
     "execution_count": 22,
     "metadata": {},
     "output_type": "execute_result"
    }
   ],
   "source": [
    "sales_Q1['a']"
   ]
  },
  {
   "cell_type": "code",
   "execution_count": 23,
   "id": "f62b9638-8f97-43e6-884c-b167ae9c649c",
   "metadata": {},
   "outputs": [
    {
     "name": "stderr",
     "output_type": "stream",
     "text": [
      "C:\\Users\\dai.STUDENTSDC\\AppData\\Local\\Temp\\ipykernel_8004\\832806364.py:1: FutureWarning: Series.__getitem__ treating keys as positions is deprecated. In a future version, integer keys will always be treated as labels (consistent with DataFrame behavior). To access a value by position, use `ser.iloc[pos]`\n",
      "  sales_Q1[0]\n"
     ]
    },
    {
     "data": {
      "text/plain": [
       "1"
      ]
     },
     "execution_count": 23,
     "metadata": {},
     "output_type": "execute_result"
    }
   ],
   "source": [
    "sales_Q1[0]"
   ]
  },
  {
   "cell_type": "code",
   "execution_count": 24,
   "id": "4a8178ca-7cd2-4f7e-b355-0cd4f6e9027e",
   "metadata": {},
   "outputs": [
    {
     "data": {
      "text/plain": [
       "Index(['a', 'b', 'c', 'd'], dtype='object')"
      ]
     },
     "execution_count": 24,
     "metadata": {},
     "output_type": "execute_result"
    }
   ],
   "source": [
    "sales_Q1.keys()"
   ]
  },
  {
   "cell_type": "code",
   "execution_count": 25,
   "id": "2b7ad2a1-5eb4-43a9-a33d-0e6bde9df301",
   "metadata": {},
   "outputs": [
    {
     "data": {
      "text/plain": [
       "a    2\n",
       "b    4\n",
       "c    6\n",
       "d    8\n",
       "dtype: int64"
      ]
     },
     "execution_count": 25,
     "metadata": {},
     "output_type": "execute_result"
    }
   ],
   "source": [
    "sales_Q1 * 2"
   ]
  },
  {
   "cell_type": "code",
   "execution_count": 26,
   "id": "3f368ff6-1ded-4d6b-9e0f-9152d4cdc5e2",
   "metadata": {},
   "outputs": [
    {
     "data": {
      "text/plain": [
       "a    0.01\n",
       "b    0.02\n",
       "c    0.03\n",
       "d    0.04\n",
       "dtype: float64"
      ]
     },
     "execution_count": 26,
     "metadata": {},
     "output_type": "execute_result"
    }
   ],
   "source": [
    "sales_Q2 / 100"
   ]
  },
  {
   "cell_type": "code",
   "execution_count": 28,
   "id": "4d54e0a1-57f5-415d-a2c8-d3b4abb521c7",
   "metadata": {},
   "outputs": [
    {
     "data": {
      "text/plain": [
       "a    2\n",
       "b    4\n",
       "c    6\n",
       "d    8\n",
       "dtype: int64"
      ]
     },
     "execution_count": 28,
     "metadata": {},
     "output_type": "execute_result"
    }
   ],
   "source": [
    "sales_Q1 + sales_Q2"
   ]
  },
  {
   "cell_type": "code",
   "execution_count": 29,
   "id": "c2ed97a7-ed06-45af-b3de-2bec3d8845db",
   "metadata": {},
   "outputs": [
    {
     "data": {
      "text/plain": [
       "a    2\n",
       "b    4\n",
       "c    6\n",
       "d    8\n",
       "dtype: int64"
      ]
     },
     "execution_count": 29,
     "metadata": {},
     "output_type": "execute_result"
    }
   ],
   "source": [
    "sales_Q1.add(sales_Q2, fill_value=0)"
   ]
  },
  {
   "cell_type": "code",
   "execution_count": null,
   "id": "07e3ad42-2204-4fbc-a54b-23520cc75f43",
   "metadata": {},
   "outputs": [],
   "source": []
  }
 ],
 "metadata": {
  "kernelspec": {
   "display_name": "Python 3 (ipykernel)",
   "language": "python",
   "name": "python3"
  },
  "language_info": {
   "codemirror_mode": {
    "name": "ipython",
    "version": 3
   },
   "file_extension": ".py",
   "mimetype": "text/x-python",
   "name": "python",
   "nbconvert_exporter": "python",
   "pygments_lexer": "ipython3",
   "version": "3.12.4"
  }
 },
 "nbformat": 4,
 "nbformat_minor": 5
}
